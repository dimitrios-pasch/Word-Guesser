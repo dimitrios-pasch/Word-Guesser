{
 "cells": [
  {
   "cell_type": "markdown",
   "metadata": {},
   "source": [
    "# Word games assignment\n",
    "\n",
    "You will be making a hangman game.\n",
    "The words used for guessing will be taken from a corpus file full of sentences taken from Wikipedia.\n",
    "10 marks are for neatness.\n",
    "\n",
    "Below is a cell containing all the imports you will need in this assignment.\n",
    "Run it and do not write another `import` anywhere else."
   ]
  },
  {
   "cell_type": "code",
   "execution_count": 3,
   "metadata": {},
   "outputs": [
    {
     "name": "stderr",
     "output_type": "stream",
     "text": [
      "[nltk_data] Downloading package punkt to\n",
      "[nltk_data]     C:\\Users\\dim12\\AppData\\Roaming\\nltk_data...\n",
      "[nltk_data]   Package punkt is already up-to-date!\n"
     ]
    },
    {
     "data": {
      "text/plain": [
       "True"
      ]
     },
     "execution_count": 3,
     "metadata": {},
     "output_type": "execute_result"
    }
   ],
   "source": [
    "import re\n",
    "import nltk\n",
    "import random\n",
    "nltk.download('punkt')"
   ]
  },
  {
   "cell_type": "markdown",
   "metadata": {},
   "source": [
    "Good luck!"
   ]
  },
  {
   "cell_type": "markdown",
   "metadata": {},
   "source": [
    "## 1) Making a word list\n",
    "\n",
    "In order to make a word guessing game, we need to have a list of words to guess.\n",
    "You will extract these words from the corpus file provided with this assignment."
   ]
  },
  {
   "cell_type": "markdown",
   "metadata": {},
   "source": [
    "1.1) The corpus consists of one sentence per line.\n",
    "Read these sentences from the file and put them in a list called `sentences`.\n",
    "Print the length of this list, which should be 2239.\n",
    "\n",
    "[5 marks]"
   ]
  },
  {
   "cell_type": "code",
   "execution_count": 5,
   "metadata": {},
   "outputs": [
    {
     "name": "stdout",
     "output_type": "stream",
     "text": [
      "2239\n"
     ]
    }
   ],
   "source": [
    "file_path = 'corpus.txt'  \n",
    "with open('corpus.txt', 'r', encoding='utf-8') as file:\n",
    "    sentences = file.readlines()\n",
    "sentences = [sentence.strip() for sentence in sentences]\n",
    "print(len(sentences))   # Should print 2239"
   ]
  },
  {
   "cell_type": "markdown",
   "metadata": {},
   "source": [
    "1.2) Extract all the words from `sentences` and put them all into one list called `words`.\n",
    "Print the length of this list, which should be 32469.\n",
    "\n",
    "[5 marks]"
   ]
  },
  {
   "cell_type": "code",
   "execution_count": 7,
   "metadata": {},
   "outputs": [
    {
     "name": "stdout",
     "output_type": "stream",
     "text": [
      "32469\n"
     ]
    }
   ],
   "source": [
    "from nltk.tokenize import word_tokenize\n",
    "words = []\n",
    "for sentence in sentences:\n",
    "    words_in_sentence = word_tokenize(sentence)\n",
    "    words.extend(words_in_sentence)\n",
    "\n",
    "print(len(words)) "
   ]
  },
  {
   "cell_type": "markdown",
   "metadata": {},
   "source": [
    "1.3) Uncommon words make word guessing games too difficult, so we shall focus on the frequent words only.\n",
    "Get the frequencies of all the words in `words` and create a list called `freq_words` of all the words that occur 5 times or more.\n",
    "Print the length of `freq_words`, which should be 796.\n",
    "\n",
    "[5 marks]"
   ]
  },
  {
   "cell_type": "code",
   "execution_count": 9,
   "metadata": {},
   "outputs": [
    {
     "name": "stdout",
     "output_type": "stream",
     "text": [
      "796\n"
     ]
    }
   ],
   "source": [
    "word_counts = nltk.FreqDist(words)\n",
    "\n",
    "freq_words = [word for word, count in word_counts.items() if count >= 5]\n",
    "print(len(freq_words))"
   ]
  },
  {
   "cell_type": "markdown",
   "metadata": {},
   "source": [
    "1.4) Finally, create a list called `game_words` and fill it with all the words in `freq_words` that consist of only lowercase letters of the English alphabet and that are between 3 and 10 characters long.\n",
    "Use a regular expression to check both of these conditions at once.\n",
    "Print the length of `game_words`, which should be 541.\n",
    "\n",
    "These will be the words we use in our games.\n",
    "\n",
    "[5 marks]"
   ]
  },
  {
   "cell_type": "code",
   "execution_count": 11,
   "metadata": {},
   "outputs": [
    {
     "name": "stdout",
     "output_type": "stream",
     "text": [
      "541\n"
     ]
    }
   ],
   "source": [
    "\n",
    "game_words = [word for word in freq_words if re.match(r'^[a-z]{3,10}$', word)]\n",
    "#print(game_words[:100])\n",
    "print(len(game_words))  # This should print 541"
   ]
  },
  {
   "cell_type": "markdown",
   "metadata": {},
   "source": [
    "## 2) Hangman game\n",
    "\n",
    "In a game of hangman, the computer chooses a random word and displays the word using blanks instead of letters, for example '\\*\\*\\*\\*'.\n",
    "The user then has to guess a letter that is in the word, and is shown all the letters that have not been tried yet.\n",
    "When a letter is guessed correctly, the blanks in the word that were hiding the guesssed letter are replaced with the letter, for example '\\*ee\\*'.\n",
    "Whether the guessed letter is in the word or not, the letter will still be removed from the list of letters that have not been tried yet.\n",
    "We will not be drawing an actual picture of a man being hanged as that takes away from the actual programming task."
   ]
  },
  {
   "cell_type": "markdown",
   "metadata": {},
   "source": [
    "2.1) Start by writing a function called `get_guess` that has a parameter called `valid_letters` (a set of letters), and that **repeatedly** asks the user to input a letter until the inputted letter is both a single letter and in `valid_letters`.\n",
    "Every time the inputted letter is not a single letter, print that it is not a letter.\n",
    "Every time the inputted letter is not in `valid_letters`, print that it is not an available letter.\n",
    "The function should return the inputted letter if it meets both criteria.\n",
    "\n",
    "Some test code is provided for you to test your function.\n",
    "\n",
    "[10 marks]"
   ]
  },
  {
   "cell_type": "code",
   "execution_count": 13,
   "metadata": {},
   "outputs": [],
   "source": [
    "def get_guess(valid_letters):\n",
    "    while True:\n",
    "        guess = input(\"Please enter a letter: \").lower()\n",
    "        if len(guess) != 1 or not guess.isalpha():\n",
    "            print(\"That is not a letter. Please try again.\")\n",
    "        elif guess not in valid_letters:\n",
    "            print(\"That is not an available letter. Please try again.\")\n",
    "        else:\n",
    "            return guess"
   ]
  },
  {
   "cell_type": "code",
   "execution_count": 17,
   "metadata": {},
   "outputs": [
    {
     "name": "stdout",
     "output_type": "stream",
     "text": [
      "Entering 'x' should say that it is not an available letter.\n",
      "Entering 'aa' should say that it is not a single letter.\n",
      "Entering 'a' should print 'a' and stop asking for an input.\n"
     ]
    },
    {
     "name": "stdin",
     "output_type": "stream",
     "text": [
      "Please enter a letter:  x\n"
     ]
    },
    {
     "name": "stdout",
     "output_type": "stream",
     "text": [
      "That is not an available letter. Please try again.\n"
     ]
    },
    {
     "name": "stdin",
     "output_type": "stream",
     "text": [
      "Please enter a letter:  aa\n"
     ]
    },
    {
     "name": "stdout",
     "output_type": "stream",
     "text": [
      "That is not a letter. Please try again.\n"
     ]
    },
    {
     "name": "stdin",
     "output_type": "stream",
     "text": [
      "Please enter a letter:  a\n"
     ]
    },
    {
     "name": "stdout",
     "output_type": "stream",
     "text": [
      "a\n"
     ]
    }
   ],
   "source": [
    "# Don't change!\n",
    "\n",
    "print('Entering \\'x\\' should say that it is not an available letter.')\n",
    "print('Entering \\'aa\\' should say that it is not a single letter.')\n",
    "print('Entering \\'a\\' should print \\'a\\' and stop asking for an input.')\n",
    "print(get_guess({'a', 'b', 'c'}))"
   ]
  },
  {
   "cell_type": "markdown",
   "metadata": {},
   "source": [
    "2.2) Write a function called `sort` that takes a set of letters and returns all the letters in the set as single string with all the letters in sorted order.\n",
    "\n",
    "[5 marks]"
   ]
  },
  {
   "cell_type": "code",
   "execution_count": 19,
   "metadata": {},
   "outputs": [],
   "source": [
    "def sort(letter_set): #set => list\n",
    "    sorted_letters = sorted(letter_set) #made to single string\n",
    "    return ''.join(sorted_letters)"
   ]
  },
  {
   "cell_type": "code",
   "execution_count": 21,
   "metadata": {},
   "outputs": [
    {
     "name": "stdout",
     "output_type": "stream",
     "text": [
      "Should print \"abcd\": abcd\n"
     ]
    }
   ],
   "source": [
    "# Don't change!\n",
    "\n",
    "print('Should print \"abcd\":', sort({'a', 'b', 'c', 'd'}))"
   ]
  },
  {
   "cell_type": "markdown",
   "metadata": {},
   "source": [
    "2.3) Make a function called `cover_letters` that takes a word and a set of unguessed letters and returns the word with all the unguessed letters replaced by '\\*'.\n",
    "\n",
    "Some test code is provided to help you check your function.\n",
    "\n",
    "[5 marks]"
   ]
  },
  {
   "cell_type": "code",
   "execution_count": 23,
   "metadata": {},
   "outputs": [],
   "source": [
    "def cover_letters(word, unguessed_letters):\n",
    "    covered_word = ''.join(letter if letter not in unguessed_letters else '*' for letter in word)\n",
    "    return covered_word"
   ]
  },
  {
   "cell_type": "code",
   "execution_count": 25,
   "metadata": {},
   "outputs": [
    {
     "name": "stdout",
     "output_type": "stream",
     "text": [
      "Should print \"beer\": beer\n",
      "Should print \"beer\": beer\n",
      "Should print \"*eer\": *eer\n",
      "Should print \"*ee*\": *ee*\n",
      "Should print \"****\": ****\n"
     ]
    }
   ],
   "source": [
    "# Don't change!\n",
    "\n",
    "print('Should print \"beer\":', cover_letters('beer', set('')))\n",
    "print('Should print \"beer\":', cover_letters('beer', set('acdfghijklmnopqstuvwxyz')))\n",
    "print('Should print \"*eer\":', cover_letters('beer', set('b')))\n",
    "print('Should print \"*ee*\":', cover_letters('beer', set('abcdfghijklmnopqrstuvwxyz')))\n",
    "print('Should print \"****\":', cover_letters('beer', set('abcdefghijklmnopqrstuvwxyz')))"
   ]
  },
  {
   "cell_type": "markdown",
   "metadata": {},
   "source": [
    "2.4) Next, write a class called `LettersManager` with the following:\n",
    "\n",
    "* Has an initialiser that takes `target_word` as a parameter which is the target word to guess.\n",
    "* Has two instance variables called `self.unused_correct_letters` and `self.unused_letters`.\n",
    "    `self.unused_correct_letters` is a set containing all the correct letters that were not guessed yet and should be initialised to the letters in `target_word`.\n",
    "    `self.unused_letters` is a set containing all the letters of the alphabet there weren't attempted yet (neither correctly nor incorrectly) and should be initialised to the letters of the alphabet (abcdefghijklmnopqrstuvwxyz).\n",
    "* Has a method called `get_unused_correct_letters`.\n",
    "* Has a method called `get_unused_letters`.\n",
    "* Has a method called `is_correct` that takes a letter and returns if the letter is a correct one.\n",
    "* Has a method called `is_guessed` that returns if the whole word has been guessed.\n",
    "* Has a method called `remove` that takes a letter and removes it from both `self.unused_correct_letters` and `self.unused_letters`.\n",
    "\n",
    "Some test code is provided to help you check your code.\n",
    "\n",
    "[25 marks]"
   ]
  },
  {
   "cell_type": "code",
   "execution_count": 27,
   "metadata": {},
   "outputs": [],
   "source": [
    "class LettersManager:\n",
    "    def __init__(self, target_word):\n",
    "        self.target_word = target_word\n",
    "        self.unused_correct_letters = set(target_word)\n",
    "        self.unused_letters = set('abcdefghijklmnopqrstuvwxyz')\n",
    "        \n",
    "    def get_unused_correct_letters(self):\n",
    "        return self.unused_correct_letters\n",
    "        \n",
    "    def get_unused_letters(self):\n",
    "        return self.unused_letters\n",
    "\n",
    "    def is_correct(self, letter):\n",
    "        return letter in self.unused_correct_letters\n",
    "\n",
    "    def is_guessed(self):\n",
    "        return len(self.unused_correct_letters) == 0\n",
    "\n",
    "    def remove(self, letter):\n",
    "        self.unused_correct_letters.discard(letter)\n",
    "        self.unused_letters.discard(letter)"
   ]
  },
  {
   "cell_type": "code",
   "execution_count": 29,
   "metadata": {},
   "outputs": [
    {
     "name": "stdout",
     "output_type": "stream",
     "text": [
      "Should be \"ber\": ber\n",
      "Should be all the letters of the alphabet: abcdefghijklmnopqrstuvwxyz\n",
      "Should be False: False\n",
      "Should be True: True\n",
      "Should be False: False\n",
      "\n",
      "Should be \"er\": er\n",
      "Should be all the letters of the alphabet except for b: acdefghijklmnopqrstuvwxyz\n",
      "Should be False: False\n",
      "Should be False: False\n",
      "Should be True: True\n",
      "Should be False: False\n",
      "\n",
      "Should be \"er\": er\n",
      "Should be all the letters of the alphabet except for b and x: acdefghijklmnopqrstuvwyz\n",
      "Should be False: False\n",
      "Should be False: False\n",
      "Should be True: True\n",
      "Should be False: False\n",
      "\n",
      "Should be \"r\": r\n",
      "Should be all the letters of the alphabet except for b, x, and e: acdfghijklmnopqrstuvwyz\n",
      "Should be False: False\n",
      "Should be False: False\n",
      "Should be False: False\n",
      "Should be False: False\n",
      "\n",
      "Should be \"\": \n",
      "Should be all the letters of the alphabet except for b, x, e, and r: acdfghijklmnopqstuvwyz\n",
      "Should be True: True\n"
     ]
    }
   ],
   "source": [
    "# Don't change!\n",
    "\n",
    "mngr = LettersManager('beer')\n",
    "print('Should be \"ber\":', sort(mngr.get_unused_correct_letters()))\n",
    "print('Should be all the letters of the alphabet:', sort(mngr.get_unused_letters()))\n",
    "print('Should be False:', mngr.is_correct('x'))\n",
    "print('Should be True:', mngr.is_correct('b'))\n",
    "print('Should be False:', mngr.is_guessed())\n",
    "print()\n",
    "\n",
    "mngr.remove('b')\n",
    "print('Should be \"er\":', sort(mngr.get_unused_correct_letters()))\n",
    "print('Should be all the letters of the alphabet except for b:', sort(mngr.get_unused_letters()))\n",
    "print('Should be False:', mngr.is_correct('x'))\n",
    "print('Should be False:', mngr.is_correct('b'))\n",
    "print('Should be True:', mngr.is_correct('e'))\n",
    "print('Should be False:', mngr.is_guessed())\n",
    "print()\n",
    "\n",
    "mngr.remove('x')\n",
    "print('Should be \"er\":', sort(mngr.get_unused_correct_letters()))\n",
    "print('Should be all the letters of the alphabet except for b and x:', sort(mngr.get_unused_letters()))\n",
    "print('Should be False:', mngr.is_correct('x'))\n",
    "print('Should be False:', mngr.is_correct('b'))\n",
    "print('Should be True:', mngr.is_correct('e'))\n",
    "print('Should be False:', mngr.is_guessed())\n",
    "print()\n",
    "\n",
    "mngr.remove('e')\n",
    "print('Should be \"r\":', sort(mngr.get_unused_correct_letters()))\n",
    "print('Should be all the letters of the alphabet except for b, x, and e:', sort(mngr.get_unused_letters()))\n",
    "print('Should be False:', mngr.is_correct('x'))\n",
    "print('Should be False:', mngr.is_correct('b'))\n",
    "print('Should be False:', mngr.is_correct('e'))\n",
    "print('Should be False:', mngr.is_guessed())\n",
    "print()\n",
    "\n",
    "mngr.remove('r')\n",
    "print('Should be \"\":', sort(mngr.get_unused_correct_letters()))\n",
    "print('Should be all the letters of the alphabet except for b, x, e, and r:', sort(mngr.get_unused_letters()))\n",
    "print('Should be True:', mngr.is_guessed())"
   ]
  },
  {
   "cell_type": "markdown",
   "metadata": {},
   "source": [
    "2.5) Now comes the main code of the game.\n",
    "Write code that does the following:\n",
    "\n",
    "* Randomly pick a word from `game_words` and put it in a variable called `target_word`.\n",
    "* Create a `LettersManager` object and put it in a variable called `letters_mngr`\n",
    "* Repeatedly do the following:\n",
    "    * Print the number of **failed** letter guesses that have been made (increases every time an inputted letter was not correct).\n",
    "    * Print the letters that the user hasn't used yet.\n",
    "    * Print the covered version of the target word (covering the unguessed letters).\n",
    "    * Call `get_guess` and put the returned letter in a variable called `letter`.\n",
    "    * Remove `letter` from `letters_mngr`.\n",
    "    * Check if the word has been guessed (`letters_mngr.is_guessed`) and end the loop if so.\n",
    "\n",
    "Make sure that a nice message is shown when the word is completely guessed and that the entire output looks neat.\n",
    "\n",
    "[25 marks]"
   ]
  },
  {
   "cell_type": "code",
   "execution_count": 31,
   "metadata": {},
   "outputs": [
    {
     "name": "stdout",
     "output_type": "stream",
     "text": [
      "The randomly selected target word is: between\n",
      "Failed guesses: 0\n",
      "Unused letters: abcdefghijklmnopqrstuvwxyz\n",
      "Current word: ******\n"
     ]
    },
    {
     "name": "stdin",
     "output_type": "stream",
     "text": [
      "Please enter a letter:  a\n"
     ]
    },
    {
     "name": "stdout",
     "output_type": "stream",
     "text": [
      "Failed guesses: 1\n",
      "Unused letters: bcdefghijklmnopqrstuvwxyz\n",
      "Current word: ******\n"
     ]
    },
    {
     "name": "stdin",
     "output_type": "stream",
     "text": [
      "Please enter a letter:  e\n"
     ]
    },
    {
     "name": "stdout",
     "output_type": "stream",
     "text": [
      "Failed guesses: 2\n",
      "Unused letters: bcdfghijklmnopqrstuvwxyz\n",
      "Current word: ******\n"
     ]
    },
    {
     "name": "stdin",
     "output_type": "stream",
     "text": [
      "Please enter a letter:  i\n"
     ]
    },
    {
     "name": "stdout",
     "output_type": "stream",
     "text": [
      "Failed guesses: 3\n",
      "Unused letters: bcdfghjklmnopqrstuvwxyz\n",
      "Current word: ******\n"
     ]
    },
    {
     "name": "stdin",
     "output_type": "stream",
     "text": [
      "Please enter a letter:  o\n"
     ]
    },
    {
     "name": "stdout",
     "output_type": "stream",
     "text": [
      "Failed guesses: 4\n",
      "Unused letters: bcdfghjklmnpqrstuvwxyz\n",
      "Current word: *o****\n"
     ]
    },
    {
     "name": "stdin",
     "output_type": "stream",
     "text": [
      "Please enter a letter:  u\n"
     ]
    },
    {
     "name": "stdout",
     "output_type": "stream",
     "text": [
      "Failed guesses: 5\n",
      "Unused letters: bcdfghjklmnpqrstvwxyz\n",
      "Current word: *ou***\n"
     ]
    },
    {
     "name": "stdin",
     "output_type": "stream",
     "text": [
      "Please enter a letter:  b\n"
     ]
    },
    {
     "name": "stdout",
     "output_type": "stream",
     "text": [
      "Failed guesses: 6\n",
      "Unused letters: cdfghjklmnpqrstvwxyz\n",
      "Current word: *ou***\n"
     ]
    },
    {
     "name": "stdin",
     "output_type": "stream",
     "text": [
      "Please enter a letter:  m\n"
     ]
    },
    {
     "name": "stdout",
     "output_type": "stream",
     "text": [
      "Failed guesses: 7\n",
      "Unused letters: cdfghjklnpqrstvwxyz\n",
      "Current word: *ou***\n"
     ]
    },
    {
     "name": "stdin",
     "output_type": "stream",
     "text": [
      "Please enter a letter:  r\n"
     ]
    },
    {
     "name": "stdout",
     "output_type": "stream",
     "text": [
      "Failed guesses: 8\n",
      "Unused letters: cdfghjklnpqstvwxyz\n",
      "Current word: *ou***\n"
     ]
    },
    {
     "name": "stdin",
     "output_type": "stream",
     "text": [
      "Please enter a letter:  t\n"
     ]
    },
    {
     "name": "stdout",
     "output_type": "stream",
     "text": [
      "Failed guesses: 9\n",
      "Unused letters: cdfghjklnpqsvwxyz\n",
      "Current word: *ou**t\n"
     ]
    },
    {
     "name": "stdin",
     "output_type": "stream",
     "text": [
      "Please enter a letter:  d\n"
     ]
    },
    {
     "name": "stdout",
     "output_type": "stream",
     "text": [
      "Failed guesses: 10\n",
      "Unused letters: cfghjklnpqsvwxyz\n",
      "Current word: *ou**t\n"
     ]
    },
    {
     "name": "stdin",
     "output_type": "stream",
     "text": [
      "Please enter a letter:  p\n"
     ]
    },
    {
     "name": "stdout",
     "output_type": "stream",
     "text": [
      "Failed guesses: 11\n",
      "Unused letters: cfghjklnqsvwxyz\n",
      "Current word: *ou**t\n"
     ]
    },
    {
     "name": "stdin",
     "output_type": "stream",
     "text": [
      "Please enter a letter:  l\n"
     ]
    },
    {
     "name": "stdout",
     "output_type": "stream",
     "text": [
      "Failed guesses: 12\n",
      "Unused letters: cfghjknqsvwxyz\n",
      "Current word: *ou**t\n"
     ]
    },
    {
     "name": "stdin",
     "output_type": "stream",
     "text": [
      "Please enter a letter:  l\n"
     ]
    },
    {
     "name": "stdout",
     "output_type": "stream",
     "text": [
      "That is not an available letter. Please try again.\n"
     ]
    },
    {
     "name": "stdin",
     "output_type": "stream",
     "text": [
      "Please enter a letter:  t\n"
     ]
    },
    {
     "name": "stdout",
     "output_type": "stream",
     "text": [
      "That is not an available letter. Please try again.\n"
     ]
    },
    {
     "name": "stdin",
     "output_type": "stream",
     "text": [
      "Please enter a letter:  r\n"
     ]
    },
    {
     "name": "stdout",
     "output_type": "stream",
     "text": [
      "That is not an available letter. Please try again.\n"
     ]
    },
    {
     "name": "stdin",
     "output_type": "stream",
     "text": [
      "Please enter a letter:  d\n"
     ]
    },
    {
     "name": "stdout",
     "output_type": "stream",
     "text": [
      "That is not an available letter. Please try again.\n"
     ]
    },
    {
     "name": "stdin",
     "output_type": "stream",
     "text": [
      "Please enter a letter:  g\n"
     ]
    },
    {
     "name": "stdout",
     "output_type": "stream",
     "text": [
      "Failed guesses: 13\n",
      "Unused letters: cfhjknqsvwxyz\n",
      "Current word: *oug*t\n"
     ]
    },
    {
     "name": "stdin",
     "output_type": "stream",
     "text": [
      "Please enter a letter:  s\n"
     ]
    },
    {
     "name": "stdout",
     "output_type": "stream",
     "text": [
      "Failed guesses: 14\n",
      "Unused letters: cfhjknqvwxyz\n",
      "Current word: soug*t\n"
     ]
    },
    {
     "name": "stdin",
     "output_type": "stream",
     "text": [
      "Please enter a letter:  h\n"
     ]
    },
    {
     "name": "stdout",
     "output_type": "stream",
     "text": [
      "Congratulations! You've guessed the word: sought\n"
     ]
    }
   ],
   "source": [
    "target_word = random.choice(game_words)\n",
    "print(f\"The randomly selected target word is: {target_word}\")\n",
    "\n",
    "\n",
    "def get_guess(valid_letters):\n",
    "    while True:\n",
    "        guess = input(\"Please enter a letter: \").lower()\n",
    "        if len(guess) != 1 or not guess.isalpha():\n",
    "            print(\"That is not a letter. Please try again.\")\n",
    "        elif guess not in valid_letters:\n",
    "            print(\"That is not an available letter. Please try again.\")\n",
    "        else:\n",
    "            return guess\n",
    "\n",
    "# Function to cover letters in the word\n",
    "def cover_letters(word, unguessed_letters):\n",
    "    return ''.join(letter if letter not in unguessed_letters else '*' for letter in word)\n",
    "\n",
    "# LettersManager class\n",
    "class LettersManager:\n",
    "    def __init__(self, target_word):\n",
    "        self.target_word = target_word\n",
    "        self.unused_correct_letters = set(target_word)\n",
    "        self.unused_letters = set('abcdefghijklmnopqrstuvwxyz')\n",
    "\n",
    "    def get_unused_correct_letters(self):\n",
    "        return self.unused_correct_letters\n",
    "\n",
    "    def get_unused_letters(self):\n",
    "        return self.unused_letters\n",
    "\n",
    "    def is_correct(self, letter):\n",
    "        return letter in self.unused_correct_letters\n",
    "\n",
    "    def is_guessed(self):\n",
    "        return len(self.unused_correct_letters) == 0\n",
    "\n",
    "    def remove(self, letter):\n",
    "        self.unused_correct_letters.discard(letter)\n",
    "        self.unused_letters.discard(letter)\n",
    "\n",
    "# Main game code\n",
    "if __name__ == \"__main__\":\n",
    "    target_word = random.choice(game_words)\n",
    "    letters_mngr = LettersManager(target_word)\n",
    "\n",
    "    failed_guesses = 0\n",
    "\n",
    "    while True:\n",
    "        print(f\"Failed guesses: {failed_guesses}\")\n",
    "        print(\"Unused letters:\", ''.join(sorted(letters_mngr.get_unused_letters())))\n",
    "        covered_word = cover_letters(target_word, letters_mngr.get_unused_correct_letters())\n",
    "        print(\"Current word:\", covered_word)\n",
    "\n",
    "        letter = get_guess(letters_mngr.get_unused_letters())\n",
    "        letters_mngr.remove(letter)\n",
    "\n",
    "        if not letters_mngr.is_correct(letter):\n",
    "            failed_guesses += 1\n",
    "\n",
    "        if letters_mngr.is_guessed():\n",
    "            print(f\"Congratulations! You've guessed the word: {target_word}\")\n",
    "            break"
   ]
  },
  {
   "cell_type": "code",
   "execution_count": null,
   "metadata": {},
   "outputs": [],
   "source": []
  }
 ],
 "metadata": {
  "kernelspec": {
   "display_name": "Python 3 (ipykernel)",
   "language": "python",
   "name": "python3"
  },
  "language_info": {
   "codemirror_mode": {
    "name": "ipython",
    "version": 3
   },
   "file_extension": ".py",
   "mimetype": "text/x-python",
   "name": "python",
   "nbconvert_exporter": "python",
   "pygments_lexer": "ipython3",
   "version": "3.12.4"
  }
 },
 "nbformat": 4,
 "nbformat_minor": 4
}
